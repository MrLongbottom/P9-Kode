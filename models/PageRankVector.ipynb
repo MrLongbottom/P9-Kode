{
 "cells": [
  {
   "cell_type": "code",
   "execution_count": 1,
   "metadata": {},
   "outputs": [],
   "source": [
    "import scipy.sparse as sp\n",
    "from standard_random_walk import construct_transition_probability_matrix, step_vector\n",
    "from fast_pagerank import pagerank\n",
    "import numpy as np\n",
    "from sklearn.preprocessing import normalize\n",
    "import random"
   ]
  },
  {
   "cell_type": "code",
   "execution_count": 2,
   "metadata": {},
   "outputs": [
    {
     "data": {
      "text/plain": [
       "<32201x32201 sparse matrix of type '<class 'numpy.float64'>'\n",
       "\twith 518436100 stored elements in Compressed Sparse Row format>"
      ]
     },
     "execution_count": 2,
     "metadata": {},
     "output_type": "execute_result"
    }
   ],
   "source": [
    "matrix = sp.load_npz(\"full_adj_matrix.npz\")\n",
    "matrix"
   ]
  },
  {
   "cell_type": "code",
   "execution_count": 3,
   "metadata": {},
   "outputs": [],
   "source": [
    "adjmatrix = matrix.todense()"
   ]
  },
  {
   "cell_type": "code",
   "execution_count": 4,
   "metadata": {},
   "outputs": [],
   "source": [
    "adjmatrix = adjmatrix + adjmatrix.T"
   ]
  },
  {
   "cell_type": "code",
   "execution_count": 5,
   "metadata": {},
   "outputs": [
    {
     "data": {
      "text/plain": [
       "matrix([[0.        , 0.21710567, 0.20660088, ..., 0.20697376, 0.32662087,\n",
       "         0.29426479],\n",
       "        [0.21710567, 0.        , 0.23690168, ..., 0.23188163, 0.22041921,\n",
       "         0.21828393],\n",
       "        [0.20660088, 0.23690168, 0.        , ..., 0.52842369, 0.21039084,\n",
       "         0.24795158],\n",
       "        ...,\n",
       "        [0.20697376, 0.23188163, 0.52842369, ..., 0.        , 0.21038629,\n",
       "         0.20876588],\n",
       "        [0.32662087, 0.22041921, 0.21039084, ..., 0.21038629, 0.        ,\n",
       "         0.30809054],\n",
       "        [0.29426479, 0.21828393, 0.24795158, ..., 0.20876588, 0.30809054,\n",
       "         0.        ]])"
      ]
     },
     "execution_count": 5,
     "metadata": {},
     "output_type": "execute_result"
    }
   ],
   "source": [
    "adjmatrix"
   ]
  },
  {
   "cell_type": "code",
   "execution_count": 6,
   "metadata": {},
   "outputs": [],
   "source": [
    "norm = np.linalg.norm(adjmatrix[~np.isnan(adjmatrix)])"
   ]
  },
  {
   "cell_type": "code",
   "execution_count": 7,
   "metadata": {},
   "outputs": [],
   "source": [
    "adj_matrix = sp.csr_matrix(adjmatrix / norm if (norm != 0.) else adjmatrix)"
   ]
  },
  {
   "cell_type": "code",
   "execution_count": 8,
   "metadata": {},
   "outputs": [],
   "source": [
    "del matrix"
   ]
  },
  {
   "cell_type": "code",
   "execution_count": 9,
   "metadata": {},
   "outputs": [],
   "source": [
    "where_are_NaNs = np.isnan(adj_matrix.toarray())\n",
    "adj_matrix[where_are_NaNs] = 0"
   ]
  },
  {
   "cell_type": "code",
   "execution_count": 10,
   "metadata": {},
   "outputs": [
    {
     "data": {
      "text/plain": [
       "matrix([[0.        , 0.21710567, 0.20660088, ..., 0.20697376, 0.32662087,\n",
       "         0.29426479],\n",
       "        [0.21710567, 0.        , 0.23690168, ..., 0.23188163, 0.22041921,\n",
       "         0.21828393],\n",
       "        [0.20660088, 0.23690168, 0.        , ..., 0.52842369, 0.21039084,\n",
       "         0.24795158],\n",
       "        ...,\n",
       "        [0.20697376, 0.23188163, 0.52842369, ..., 0.        , 0.21038629,\n",
       "         0.20876588],\n",
       "        [0.32662087, 0.22041921, 0.21039084, ..., 0.21038629, 0.        ,\n",
       "         0.30809054],\n",
       "        [0.29426479, 0.21828393, 0.24795158, ..., 0.20876588, 0.30809054,\n",
       "         0.        ]])"
      ]
     },
     "execution_count": 10,
     "metadata": {},
     "output_type": "execute_result"
    }
   ],
   "source": [
    "adjmatrix"
   ]
  },
  {
   "cell_type": "code",
   "execution_count": 11,
   "metadata": {},
   "outputs": [],
   "source": [
    "def random_walk_with_teleport(steps: int,\n",
    "                              adj_matrix,\n",
    "                              teleport_vector: np.ndarray,\n",
    "                              damp_factor=0.85):\n",
    "    \"\"\"\n",
    "    This function is just like random walk but with a teleport vector\n",
    "    :param steps: The number power iterations\n",
    "    :param graph: the sentence graph\n",
    "    :param teleport_vector: a numpy array which indicates which nodes to favor\n",
    "    :param damp_factor: 0.85\n",
    "    :return: a dict comprised of sentences and their score\n",
    "    \"\"\"\n",
    "    normalized_teleport = teleport_vector / teleport_vector.sum(axis=0)\n",
    "\n",
    "    # random start node\n",
    "    index = random.randrange(0, adj_matrix.shape[0])\n",
    "    step = np.zeros(adj_matrix.shape[0])\n",
    "    step[index] = 1\n",
    "    for index in range(steps):\n",
    "        step = damp_factor * np.dot(step, adj_matrix.T) + (1 - damp_factor) * normalized_teleport\n",
    "    return step"
   ]
  },
  {
   "cell_type": "code",
   "execution_count": 12,
   "metadata": {},
   "outputs": [
    {
     "data": {
      "text/plain": [
       "array([2.42176690e-05, 2.22731589e-05, 2.42695351e-05, ...,\n",
       "       2.39294456e-05, 2.62488344e-05, 2.35611463e-05])"
      ]
     },
     "execution_count": 12,
     "metadata": {},
     "output_type": "execute_result"
    }
   ],
   "source": [
    "step = random_walk_with_teleport(20, adj_matrix.toarray(), np.ones(adj_matrix.shape[0]))\n",
    "step"
   ]
  },
  {
   "cell_type": "code",
   "execution_count": 13,
   "metadata": {},
   "outputs": [],
   "source": [
    "np.save(\"pr_matrix\", step)"
   ]
  }
 ],
 "metadata": {
  "kernelspec": {
   "display_name": "Python 3",
   "language": "python",
   "name": "python3"
  },
  "language_info": {
   "codemirror_mode": {
    "name": "ipython",
    "version": 3
   },
   "file_extension": ".py",
   "mimetype": "text/x-python",
   "name": "python",
   "nbconvert_exporter": "python",
   "pygments_lexer": "ipython3",
   "version": "3.7.4"
  }
 },
 "nbformat": 4,
 "nbformat_minor": 4
}
